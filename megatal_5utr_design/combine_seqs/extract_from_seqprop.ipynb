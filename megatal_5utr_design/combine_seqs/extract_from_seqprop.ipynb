{
 "cells": [
  {
   "cell_type": "code",
   "execution_count": 1,
   "metadata": {},
   "outputs": [],
   "source": [
    "import os\n",
    "\n",
    "import numpy\n",
    "import pandas\n",
    "import matplotlib\n",
    "from matplotlib import pyplot\n",
    "import seaborn\n",
    "\n",
    "import logomaker"
   ]
  },
  {
   "cell_type": "code",
   "execution_count": 2,
   "metadata": {},
   "outputs": [
    {
     "name": "stderr",
     "output_type": "stream",
     "text": [
      "/usr/local/lib/python3.7/site-packages/ipykernel_launcher.py:3: FutureWarning: Passing a negative integer is deprecated in version 1.0 and will not be supported in future version. Instead, use None to not limit the column width.\n",
      "  This is separate from the ipykernel package so we can avoid doing imports until\n"
     ]
    }
   ],
   "source": [
    "%matplotlib inline\n",
    "matplotlib.rcParams['figure.dpi'] = 120\n",
    "pandas.set_option('display.max_colwidth', -1)"
   ]
  },
  {
   "cell_type": "markdown",
   "metadata": {},
   "source": [
    "# Helper functions"
   ]
  },
  {
   "cell_type": "code",
   "execution_count": 3,
   "metadata": {},
   "outputs": [],
   "source": [
    "def one_hot_encode(sequences, seq_len=100):\n",
    "    # Dictionary returning one-hot encoding of nucleotides. \n",
    "    nuc_d = {'a':[1,0,0,0],\n",
    "             'c':[0,1,0,0],\n",
    "             'g':[0,0,1,0],\n",
    "             't':[0,0,0,1],\n",
    "             'n':[0,0,0,0]}\n",
    "    \n",
    "    # Creat empty matrix\n",
    "    vectors = numpy.empty([len(sequences), seq_len, 4])\n",
    "    \n",
    "    # Iterate through sequences and one-hot encode\n",
    "    for i, seq in enumerate(sequences): \n",
    "        seq = seq[:seq_len].lower()\n",
    "        a = numpy.array([nuc_d[x] for x in seq])\n",
    "        vectors[i] = a\n",
    "    return vectors"
   ]
  },
  {
   "cell_type": "code",
   "execution_count": 4,
   "metadata": {},
   "outputs": [],
   "source": [
    "def plot_pwm(seq, title=None):\n",
    "    pwm = one_hot_encode([seq], seq_len=len(seq))[0]\n",
    "    # Calculate entropy and conservation\n",
    "    entropy = numpy.zeros_like(pwm)\n",
    "    entropy[pwm > 0] = pwm[pwm > 0] * -numpy.log2(pwm[pwm > 0])\n",
    "    entropy = numpy.sum(entropy, axis=1)\n",
    "    conservation = 2 - entropy\n",
    "    # Nucleotide height\n",
    "    nt_height = numpy.tile(numpy.reshape(conservation, (-1, 1)), (1, 4))\n",
    "    nt_height = pwm * nt_height\n",
    "\n",
    "    nt_height_df = pandas.DataFrame(\n",
    "        nt_height,\n",
    "        columns=['A', 'C', 'G', 'T'],\n",
    "    )\n",
    "\n",
    "    fig = pyplot.figure(figsize=(len(seq)/5., 0.4))\n",
    "    ax = fig.add_subplot(1, 1, 1)\n",
    "    logo = logomaker.Logo(\n",
    "        nt_height_df,\n",
    "        color_scheme='classic',\n",
    "        ax=ax,\n",
    "    )\n",
    "    logo.style_spines(visible=False)\n",
    "    logo.style_spines(spines=['bottom'], visible=True, linewidth=2)\n",
    "    ax.set_xticks([])\n",
    "    ax.set_yticks([])\n",
    "    if title is not None:\n",
    "        ax.set_title(title)"
   ]
  },
  {
   "cell_type": "markdown",
   "metadata": {},
   "source": [
    "# Extract data"
   ]
  },
  {
   "cell_type": "code",
   "execution_count": 5,
   "metadata": {},
   "outputs": [],
   "source": [
    "data_folder = '../fastseqprop'"
   ]
  },
  {
   "cell_type": "code",
   "execution_count": 6,
   "metadata": {},
   "outputs": [],
   "source": [
    "# # 4 SeqProp sequences, 50nt utr (pick at least 1 with strong hairpin structure)\n",
    "# data_filename = 'optimus5_seqprop_designs_50nt.csv'\n",
    "# data_design = 'am_st'\n",
    "# n_seqs_to_save = 4\n",
    "# output_filename = 'seqprop_optimus5p_50bp_selected.csv'\n",
    "\n",
    "# # 4 SeqProp sequences, 50nt utr, with VAE reg.\n",
    "# data_filename = 'optimus5_seqprop_designs_50nt.csv'\n",
    "# data_design = 'am_st_vae'\n",
    "# n_seqs_to_save = 4\n",
    "# output_filename = 'seqprop_vae_optimus5p_50bp_selected.csv'\n",
    "\n",
    "# # 5 SeqProp sequences, 25nt utr (pick at least 1 with strong hairpin structure)\n",
    "# data_filename = 'optimus5_seqprop_designs_25nt.csv'\n",
    "# data_design = 'am_st'\n",
    "# n_seqs_to_save = 5\n",
    "# output_filename = 'seqprop_optimus5p_25bp_selected.csv'\n",
    "\n",
    "# 2 SeqProp sequences, 25nt utr, with VAE reg.\n",
    "data_filename = 'optimus5_seqprop_designs_25nt.csv'\n",
    "data_design = 'am_st_vae'\n",
    "n_seqs_to_save = 2\n",
    "output_filename = 'seqprop_vae_optimus5p_25bp_selected.csv'"
   ]
  },
  {
   "cell_type": "code",
   "execution_count": 7,
   "metadata": {},
   "outputs": [
    {
     "data": {
      "text/html": [
       "<div>\n",
       "<style scoped>\n",
       "    .dataframe tbody tr th:only-of-type {\n",
       "        vertical-align: middle;\n",
       "    }\n",
       "\n",
       "    .dataframe tbody tr th {\n",
       "        vertical-align: top;\n",
       "    }\n",
       "\n",
       "    .dataframe thead th {\n",
       "        text-align: right;\n",
       "    }\n",
       "</style>\n",
       "<table border=\"1\" class=\"dataframe\">\n",
       "  <thead>\n",
       "    <tr style=\"text-align: right;\">\n",
       "      <th></th>\n",
       "      <th>seq</th>\n",
       "      <th>design</th>\n",
       "      <th>pred_optimus_5</th>\n",
       "      <th>pred_k_mer_no_uaug</th>\n",
       "    </tr>\n",
       "  </thead>\n",
       "  <tbody>\n",
       "    <tr>\n",
       "      <th>10</th>\n",
       "      <td>TTTACCGGAATCCGAATTTGCGAAA</td>\n",
       "      <td>am_st_vae</td>\n",
       "      <td>7.193543</td>\n",
       "      <td>7.154988</td>\n",
       "    </tr>\n",
       "    <tr>\n",
       "      <th>11</th>\n",
       "      <td>TTCCGACCTTCCGAGGAGTTTAAGA</td>\n",
       "      <td>am_st_vae</td>\n",
       "      <td>7.180800</td>\n",
       "      <td>6.783800</td>\n",
       "    </tr>\n",
       "    <tr>\n",
       "      <th>12</th>\n",
       "      <td>CTACGGTTGTCTGAGTAATTCAAGA</td>\n",
       "      <td>am_st_vae</td>\n",
       "      <td>6.904998</td>\n",
       "      <td>7.030689</td>\n",
       "    </tr>\n",
       "    <tr>\n",
       "      <th>13</th>\n",
       "      <td>CTTATCCGACTCTCTATTGATTGAA</td>\n",
       "      <td>am_st_vae</td>\n",
       "      <td>7.016870</td>\n",
       "      <td>7.260861</td>\n",
       "    </tr>\n",
       "    <tr>\n",
       "      <th>14</th>\n",
       "      <td>CTTTACCGTTACTCTAGGAGAAGAA</td>\n",
       "      <td>am_st_vae</td>\n",
       "      <td>7.043694</td>\n",
       "      <td>6.858403</td>\n",
       "    </tr>\n",
       "    <tr>\n",
       "      <th>15</th>\n",
       "      <td>CTAACGTGTGTCACTCTTAGTAACT</td>\n",
       "      <td>am_st_vae</td>\n",
       "      <td>7.028362</td>\n",
       "      <td>6.704139</td>\n",
       "    </tr>\n",
       "    <tr>\n",
       "      <th>16</th>\n",
       "      <td>TATCCGGATATCCTTTAGGGTTCAA</td>\n",
       "      <td>am_st_vae</td>\n",
       "      <td>6.859970</td>\n",
       "      <td>6.917194</td>\n",
       "    </tr>\n",
       "    <tr>\n",
       "      <th>17</th>\n",
       "      <td>CGATTCACTCGAAGGAATTTTAGAT</td>\n",
       "      <td>am_st_vae</td>\n",
       "      <td>6.986636</td>\n",
       "      <td>6.636121</td>\n",
       "    </tr>\n",
       "    <tr>\n",
       "      <th>18</th>\n",
       "      <td>TATCCGTTTACTCTATAGAGTGGAT</td>\n",
       "      <td>am_st_vae</td>\n",
       "      <td>7.138167</td>\n",
       "      <td>7.011954</td>\n",
       "    </tr>\n",
       "    <tr>\n",
       "      <th>19</th>\n",
       "      <td>TTCCAGTCTCTTCTGAGAAGTGGAT</td>\n",
       "      <td>am_st_vae</td>\n",
       "      <td>7.340373</td>\n",
       "      <td>6.953503</td>\n",
       "    </tr>\n",
       "  </tbody>\n",
       "</table>\n",
       "</div>"
      ],
      "text/plain": [
       "                          seq     design  pred_optimus_5  pred_k_mer_no_uaug\n",
       "10  TTTACCGGAATCCGAATTTGCGAAA  am_st_vae  7.193543        7.154988          \n",
       "11  TTCCGACCTTCCGAGGAGTTTAAGA  am_st_vae  7.180800        6.783800          \n",
       "12  CTACGGTTGTCTGAGTAATTCAAGA  am_st_vae  6.904998        7.030689          \n",
       "13  CTTATCCGACTCTCTATTGATTGAA  am_st_vae  7.016870        7.260861          \n",
       "14  CTTTACCGTTACTCTAGGAGAAGAA  am_st_vae  7.043694        6.858403          \n",
       "15  CTAACGTGTGTCACTCTTAGTAACT  am_st_vae  7.028362        6.704139          \n",
       "16  TATCCGGATATCCTTTAGGGTTCAA  am_st_vae  6.859970        6.917194          \n",
       "17  CGATTCACTCGAAGGAATTTTAGAT  am_st_vae  6.986636        6.636121          \n",
       "18  TATCCGTTTACTCTATAGAGTGGAT  am_st_vae  7.138167        7.011954          \n",
       "19  TTCCAGTCTCTTCTGAGAAGTGGAT  am_st_vae  7.340373        6.953503          "
      ]
     },
     "execution_count": 7,
     "metadata": {},
     "output_type": "execute_result"
    }
   ],
   "source": [
    "# Load and filter data\n",
    "data_path = os.path.join(data_folder, data_filename)\n",
    "data = pandas.read_csv(data_path, delimiter='\\t')\n",
    "data = data[data['design']==data_design]\n",
    "data"
   ]
  },
  {
   "cell_type": "code",
   "execution_count": 8,
   "metadata": {},
   "outputs": [
    {
     "data": {
      "image/png": "[encoded data removed]",
      "text/plain": [
       "<Figure size 600x48 with 1 Axes>"
      ]
     },
     "metadata": {},
     "output_type": "display_data"
    },
    {
     "data": {
      "image/png": "[encoded data removed]",
      "text/plain": [
       "<Figure size 600x48 with 1 Axes>"
      ]
     },
     "metadata": {},
     "output_type": "display_data"
    }
   ],
   "source": [
    "# Choose five to be saved\n",
    "data_selected = data.iloc[:n_seqs_to_save]\n",
    "\n",
    "# Plot sequences\n",
    "for index, row in data_selected.iterrows():\n",
    "    plot_pwm(\n",
    "        row['seq'],\n",
    "        title=\"MRL = {:.2f}\".format(row['pred_optimus_5']),\n",
    "    )"
   ]
  },
  {
   "cell_type": "code",
   "execution_count": 9,
   "metadata": {},
   "outputs": [],
   "source": [
    "# Save\n",
    "data_to_save = data_selected.rename(\n",
    "    columns={\n",
    "        'seq': \"5'UTR\",\n",
    "        'pred_optimus_5': \"Predicted MRL\"\n",
    "    }\n",
    ")\n",
    "data_to_save = data_to_save[[\"5'UTR\", \"Predicted MRL\"]]\n",
    "data_to_save.to_csv(output_filename, index=False)"
   ]
  },
  {
   "cell_type": "code",
   "execution_count": null,
   "metadata": {},
   "outputs": [],
   "source": []
  }
 ],
 "metadata": {
  "kernelspec": {
   "display_name": "Python 3",
   "language": "python",
   "name": "python3"
  },
  "language_info": {
   "codemirror_mode": {
    "name": "ipython",
    "version": 3
   },
   "file_extension": ".py",
   "mimetype": "text/x-python",
   "name": "python",
   "nbconvert_exporter": "python",
   "pygments_lexer": "ipython3",
   "version": "3.7.7"
  }
 },
 "nbformat": 4,
 "nbformat_minor": 2
}
